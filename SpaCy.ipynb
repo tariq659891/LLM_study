{
    "cells": [
        {
            "cell_type": "markdown",
            "metadata": {},
            "source": [
                "# Setting Up spaCy in Google Colab\n",
                "\n",
                "This notebook provides a comprehensive guide to setting up spaCy, using NLP features like tokenization, POS tagging, NER, dependency parsing, and similarity checks."
            ]
        },
        {
            "cell_type": "markdown",
            "metadata": {},
            "source": [
                "## 1. Installing spaCy and Its Models\n",
                "\n",
                "Let's install spaCy and download required language models including transformer-based models."
            ]
        },
        {
            "cell_type": "code",
            "metadata": {},
            "source": [
                "!pip install spacy -q\n",
                "!python -m spacy download en_core_web_sm\n",
                "!pip install spacy-transformers -q\n",
                "!python -m spacy download en_core_web_trf"
            ],
            "execution_count": null,
            "outputs": []
        },
        {
            "cell_type": "markdown",
            "metadata": {},
            "source": [
                "## 2. Loading spaCy Models\n",
                "\n",
                "We'll load both the small model and transformer-based model."
            ]
        },
        {
            "cell_type": "code",
            "metadata": {},
            "source": [
                "import spacy\n",
                "\n",
                "nlp_sm = spacy.load('en_core_web_sm')\n",
                "nlp_trf = spacy.load('en_core_web_trf')"
            ],
            "execution_count": null,
            "outputs": []
        },
        {
            "cell_type": "markdown",
            "metadata": {},
            "source": [
                "## 3. Tokenization\n",
                "Tokenization is the process of breaking text into individual tokens (words, punctuation, etc.)."
            ]
        },
        {
            "cell_type": "code",
            "metadata": {},
            "source": [
                "text = \"Natural Language Processing (NLP) enables computers to understand human language.\"\n",
                "\n",
                "doc_sm = nlp_sm(text)\n",
                "tokens_sm = [token.text for token in doc_sm]\n",
                "print(\"Tokens (Small Model):\", tokens_sm)\n",
                "\n",
                "doc_trf = nlp_trf(text)\n",
                "tokens_trf = [token.text for token in doc_trf]\n",
                "print(\"Tokens (Transformer Model):\", tokens_trf)"
            ],
            "execution_count": null,
            "outputs": []
        },
        {
            "cell_type": "markdown",
            "metadata": {},
            "source": [
                "## 4. Part-of-Speech (POS) Tagging\n",
                "\n",
                "POS tagging assigns parts of speech to each token (e.g., noun, verb, adjective)."
            ]
        },
        {
            "cell_type": "code",
            "metadata": {},
            "source": [
                "pos_tags_sm = [(token.text, token.pos_) for token in doc_sm]\n",
                "print(\"POS Tags (Small Model):\", pos_tags_sm)\n",
                "\n",
                "pos_tags_trf = [(token.text, token.pos_) for token in doc_trf]\n",
                "print(\"POS Tags (Transformer Model):\", pos_tags_trf)"
            ],
            "execution_count": null,
            "outputs": []
        },
        {
            "cell_type": "markdown",
            "metadata": {},
            "source": [
                "## 5. Named Entity Recognition (NER)\n",
                "\n",
                "NER identifies entities like people, places, and organizations within text."
            ]
        },
        {
            "cell_type": "code",
            "metadata": {},
            "source": [
                "entities_sm = [(ent.text, ent.label_) for ent in doc_sm.ents]\n",
                "print(\"Entities (Small Model):\", entities_sm)\n",
                "\n",
                "entities_trf = [(ent.text, ent.label_) for ent in doc_trf.ents]\n",
                "print(\"Entities (Transformer Model):\", entities_trf)"
            ],
            "execution_count": null,
            "outputs": []
        },
        {
            "cell_type": "markdown",
            "metadata": {},
            "source": [
                "## 6. Visualizing Dependency Trees\n",
                "\n",
                "Dependency parsing identifies grammatical relationships between words."
            ]
        },
        {
            "cell_type": "code",
            "metadata": {},
            "source": [
                "from spacy import displacy\n",
                "displacy.render(doc_sm, style='dep', jupyter=True)"
            ],
            "execution_count": null,
            "outputs": []
        },
        {
            "cell_type": "markdown",
            "metadata": {},
            "source": [
                "## 7. Word Similarity\n",
                "\n",
                "Word similarity measures how similar two words are semantically."
            ]
        },
        {
            "cell_type": "code",
            "metadata": {},
            "source": [
                "doc = nlp_sm(\"apple orange\")\n",
                "similarity = doc[0].similarity(doc[1])\n",
                "print(f\"Similarity between 'apple' and 'orange': {similarity:.2f}\")"
            ],
            "execution_count": null,
            "outputs": []
        }
    ],
    "metadata": {
        "kernelspec": {
            "name": "python3",
            "language": "python"
        },
        "nbformat": 4,
        "nbformat_minor": 5
    }
}
